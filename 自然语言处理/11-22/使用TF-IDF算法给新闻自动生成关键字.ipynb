{
 "cells": [
  {
   "cell_type": "code",
   "execution_count": 6,
   "metadata": {},
   "outputs": [
    {
     "name": "stdout",
     "output_type": "stream",
     "text": [
      "['北京', '大学', '语言', '计算', '与', '机器', '学习', '研究组', '研制', '推出', '了', '一', '套', '全新', '的', '中文', '分词', '工具包', '。', '它', '简单', '易用', '，', '支持', '多', '领域', '分词', '，', '在', '不同', '领域', '的', '数据', '上都', '大幅', '提高', '了', '分词', '的', '准确率', '。']\n"
     ]
    }
   ],
   "source": [
    "import pkuseg# 中文的分词工具包\n",
    "seg = pkuseg.pkuseg() # 以默认配置加载模型\n",
    "# 进行分词seg.cut\n",
    "text = seg.cut(\"北京大学语言计算与机器学习研究组研制推出了一套全新的中文分词工具包。它简单易用，支持多领域分词，在不同领域的数据上都大幅提高了分词的准确率。\")  # 进行分词\n",
    "print(text)"
   ]
  },
  {
   "cell_type": "code",
   "execution_count": 8,
   "metadata": {},
   "outputs": [
    {
     "name": "stdout",
     "output_type": "stream",
     "text": [
      "['我', '爱', '北京', '天安门']\n",
      "['我', '爱', '北京天安门']\n"
     ]
    }
   ],
   "source": [
    "lexicon = ['北京大学', '北京天安门']#希望分词时用户词典中的词固定不分开\n",
    "segDefault = pkuseg.pkuseg()#默认分词类型\n",
    "seg = pkuseg.pkuseg(user_dict=lexicon)#加载模型，给定用户词典\n",
    "textDefault = segDefault.cut('我爱北京天安门')#进行分词\n",
    "text = seg.cut('我爱北京天安门')#进行分词\n",
    "print(textDefault)\n",
    "print(text)"
   ]
  },
  {
   "cell_type": "code",
   "execution_count": 15,
   "metadata": {},
   "outputs": [],
   "source": [
    "def is_chinese(uchar):\n",
    "    if uchar >= u'\\u4e00' and uchar <= u'\\u9fa5':\n",
    "        return True\n",
    "    else:\n",
    "        return False\n",
    "def format_str(content):\n",
    "    content_str = ''\n",
    "    for i in content:\n",
    "        if is_chinese(i):\n",
    "            content_str = content_str + ｉ\n",
    "    return content_str\n",
    "# 使用format_str() 函数就可以将字符串中不属于中文的字符全部剔除。"
   ]
  },
  {
   "cell_type": "code",
   "execution_count": 16,
   "metadata": {},
   "outputs": [],
   "source": [
    "filenames = [\"a.txt\",\"b.txt\",\"c.txt\"]\n",
    "if __name__ == \"__main__\":\n",
    "    corpus = []\n",
    "    for name in filenames:\n",
    "        with open(name,'r') as f:\n",
    "            str = f.read()\n",
    "            str = format_str(str)\n",
    "            str = seg.cut(str)\n",
    "            corpus.append(\" \".join(str))"
   ]
  },
  {
   "cell_type": "code",
   "execution_count": 17,
   "metadata": {},
   "outputs": [],
   "source": [
    "from sklearn import feature_extraction\n",
    "from sklearn.feature_extraction.text import TfidfTransformer\n",
    "from sklearn.feature_extraction.text import CountVectorizer\n",
    "import numpy as np\n",
    "# 在给corpus加入内容之后使用CountVectorizer() 建立词频矩阵，\n",
    "# TfidfTransformer() 统计每个词语的tf-idf权值"
   ]
  },
  {
   "cell_type": "code",
   "execution_count": 18,
   "metadata": {},
   "outputs": [],
   "source": [
    "vectorizer=CountVectorizer()\n",
    "#该类会将文本中的词语转换为词频矩阵，矩阵元素a[i][j] 表示j词在i类文本下的词频\n",
    "\n",
    "transformer=TfidfTransformer() #该类会统计每个词语的tfidf权值\n",
    "\n",
    "tfidf=transformer.fit_transform(vectorizer.fit_transform(corpus))\n",
    "#第一个fit_transform是计算tf-idf，第二个fit_transform是将文本转为词频矩阵\n",
    "\n",
    "word=vectorizer.get_feature_names()\n",
    "#获取词袋模型中的所有词语\n",
    "\n",
    "weight=tfidf.toarray()\n",
    "#将tf-idf矩阵抽取出来，元素a[i][j]表示j词在i类文本中的tf-idf权重"
   ]
  },
  {
   "cell_type": "code",
   "execution_count": 19,
   "metadata": {},
   "outputs": [
    {
     "name": "stdout",
     "output_type": "stream",
     "text": [
      "a.txt : \n",
      "1 教学 0.6861792614096758\n",
      "2 教师 0.35800657117026563\n",
      "3 授课 0.2088371665159883\n",
      "4 课堂 0.17900328558513282\n",
      "5 内容 0.14916940465427736\n",
      "b.txt : \n",
      "1 生猪 0.44201592045534943\n",
      "2 猪肉 0.23800857255288044\n",
      "3 生产 0.20400734790246894\n",
      "4 意见 0.17000612325205747\n",
      "5 落实 0.17000612325205747\n",
      "c.txt : \n",
      "1 韩国 0.47490501700845744\n",
      "2 美国 0.31660334467230494\n",
      "3 报道 0.26383612056025413\n",
      "4 防卫费 0.26383612056025413\n",
      "5 美方 0.2110688964482033\n"
     ]
    }
   ],
   "source": [
    "for (name, w) in zip(filenames,weight):\n",
    "    print(name,\": \")\n",
    "    loc = np.argsort(-w)\n",
    "    for i in range(5):\n",
    "        print(i+1,word[loc[i]], w[loc[i]])"
   ]
  },
  {
   "cell_type": "code",
   "execution_count": null,
   "metadata": {},
   "outputs": [],
   "source": []
  }
 ],
 "metadata": {
  "kernelspec": {
   "display_name": "Python 3",
   "language": "python",
   "name": "python3"
  },
  "language_info": {
   "codemirror_mode": {
    "name": "ipython",
    "version": 3
   },
   "file_extension": ".py",
   "mimetype": "text/x-python",
   "name": "python",
   "nbconvert_exporter": "python",
   "pygments_lexer": "ipython3",
   "version": "3.7.4"
  }
 },
 "nbformat": 4,
 "nbformat_minor": 2
}
