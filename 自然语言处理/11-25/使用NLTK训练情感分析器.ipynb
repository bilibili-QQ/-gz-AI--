{
 "cells": [
  {
   "cell_type": "markdown",
   "metadata": {},
   "source": [
    "# 使用NLTK训练情感分析器"
   ]
  },
  {
   "cell_type": "code",
   "execution_count": 1,
   "metadata": {
    "scrolled": true
   },
   "outputs": [
    {
     "name": "stderr",
     "output_type": "stream",
     "text": [
      "[nltk_data] Downloading package movie_reviews to\n",
      "[nltk_data]     C:\\Users\\Administrator\\AppData\\Roaming\\nltk_data...\n",
      "[nltk_data]   Package movie_reviews is already up-to-date!\n"
     ]
    }
   ],
   "source": [
    "import nltk\n",
    "if __name__ == '__main__':\n",
    "    nltk.download('movie_reviews')"
   ]
  },
  {
   "cell_type": "code",
   "execution_count": 2,
   "metadata": {},
   "outputs": [],
   "source": [
    "# 导入movie review数据\n",
    "import nltk.classify.util\n",
    "from nltk.classify import NaiveBayesClassifier\n",
    "from nltk.corpus import movie_reviews"
   ]
  },
  {
   "cell_type": "code",
   "execution_count": 3,
   "metadata": {},
   "outputs": [],
   "source": [
    "# 我们需要训练数据，这里将用NLTK提供的电影评论数据\n",
    "if __name__ == '__main__':\n",
    "# 加载积极与消极评论\n",
    "    positive_fileids = movie_reviews.fileids('pos')# list类型 1000条数据 每一条是一个txt文件\n",
    "    negative_fileids = movie_reviews.fileids('neg')"
   ]
  },
  {
   "cell_type": "code",
   "execution_count": 4,
   "metadata": {},
   "outputs": [],
   "source": [
    "# 定义一个函数，用来提取特征数据\n",
    "# 输入一段文本返回形如：{'It': True, 'movie': True, 'amazing': True, 'is': True, 'an': True}\n",
    "# 返回类型是一个dict\n",
    "def extract_features(word_list):\n",
    "    return dict([(word,True) for word in word_list])\n",
    "# 将这些评论数据分成积极评论和消极评论\n",
    "# movie_reviews.words(fileids=[f])表示每一个txt文本里面的内容，结果是单词的列表：['films', 'adapted', 'from', 'comic', 'books', 'have', ...]\n",
    "# features_positive 结果为一个list\n",
    "# 结果形如：[({'shakesp: True, 'limit': True, 'mouth': True, ..., 'such': True, 'prophetic': True}, 'Positive'), ..., ({...}, 'Positive'), ...]\n",
    "features_positive =[(extract_features(movie_reviews.words(fileids=[f])),\n",
    "                     'Positive') for f in positive_fileids]\n",
    "features_negative =[(extract_features(movie_reviews.words(fileids=[f])),\n",
    "                     'Negative') for f in negative_fileids]"
   ]
  },
  {
   "cell_type": "code",
   "execution_count": 5,
   "metadata": {},
   "outputs": [
    {
     "name": "stdout",
     "output_type": "stream",
     "text": [
      "\n",
      "训练数据点的数量: 1600\n",
      "测试数据点的数量: 400\n"
     ]
    }
   ],
   "source": [
    "# 分成训练数据集（80%）和测试数据集（20%）\n",
    "threshold_factor = 0.8\n",
    "threshold_positive =int(threshold_factor*len(features_positive))# 800\n",
    "threshold_negative =int(threshold_factor*len(features_negative))# 800\n",
    "# 提取特征 800个积极文本800个消极文本构成训练集  200+200构成测试文本\n",
    "features_train = features_positive[:threshold_positive]+ features_negative[:threshold_negative]\n",
    "features_test = features_positive[threshold_positive:] +features_negative[threshold_negative:]\n",
    "print(\"\\n训练数据点的数量:\", len(features_train))\n",
    "print(\"测试数据点的数量:\", len(features_test))"
   ]
  },
  {
   "cell_type": "code",
   "execution_count": 6,
   "metadata": {},
   "outputs": [
    {
     "name": "stdout",
     "output_type": "stream",
     "text": [
      "\n",
      "分类器的准确性: 0.735\n",
      "\n",
      "十大信息最丰富的单词:\n",
      "outstanding\n",
      "insulting\n",
      "vulnerable\n",
      "ludicrous\n",
      "uninvolving\n",
      "astounding\n",
      "avoids\n",
      "fascination\n",
      "symbol\n",
      "affecting\n"
     ]
    }
   ],
   "source": [
    "# 训练朴素贝叶斯分类器\n",
    "classifier = NaiveBayesClassifier.train(features_train)\n",
    "print(\"\\n分类器的准确性:\",nltk.classify.util.accuracy(classifier, features_test))\n",
    "\n",
    "print(\"\\n十大信息最丰富的单词:\")\n",
    "for item in classifier.most_informative_features()[:10]:\n",
    "    print(item[0])"
   ]
  },
  {
   "cell_type": "code",
   "execution_count": 7,
   "metadata": {},
   "outputs": [],
   "source": [
    "# 输入一些简单的评论\n",
    "input_reviews = [\n",
    "    \"It is an amazing movie\",\n",
    "    \"This is a dull movie. I would never recommend it toanyone.\",\n",
    "    \"A complete and utter destruction of one of the mosticonic superheroes. 0.1 effort and thought put into thestoryline. A coming of age awkward teenage movie with a'spiderman' stamp put on it. Bad jokes aimed atteenagers (at best). A complete caricature of a villain,a complete caricature of a Spiderman. Just please stopmaking this garbage Put some god damn effort! A totalwaste of time\",\n",
    "    \"Just staving off some negative reviews. Fits wellinto the Marvel movies to date and is an excellentfollow up to Avengers: Endgame.\"]"
   ]
  },
  {
   "cell_type": "code",
   "execution_count": 9,
   "metadata": {},
   "outputs": [
    {
     "name": "stdout",
     "output_type": "stream",
     "text": [
      "\n",
      "预测:\n",
      "\n",
      "评论: It is an amazing movie\n",
      "预测情绪: Positive\n",
      "可能性: 0.61\n",
      "\n",
      "评论: This is a dull movie. I would never recommend it toanyone.\n",
      "预测情绪: Negative\n",
      "可能性: 0.77\n",
      "\n",
      "评论: A complete and utter destruction of one of the mosticonic superheroes. 0.1 effort and thought put into thestoryline. A coming of age awkward teenage movie with a'spiderman' stamp put on it. Bad jokes aimed atteenagers (at best). A complete caricature of a villain,a complete caricature of a Spiderman. Just please stopmaking this garbage Put some god damn effort! A totalwaste of time\n",
      "预测情绪: Negative\n",
      "可能性: 0.98\n",
      "\n",
      "评论: Just staving off some negative reviews. Fits wellinto the Marvel movies to date and is an excellentfollow up to Avengers: Endgame.\n",
      "预测情绪: Positive\n",
      "可能性: 0.67\n"
     ]
    }
   ],
   "source": [
    "# ⽤我们之前训练出的分类器预测这些⽂本的分类\n",
    "# 运行分类器，获得预测结果\n",
    "print(\"\\n预测:\")\n",
    "for review in input_reviews:\n",
    "    print(\"\\n评论:\", review)\n",
    "    probdist = classifier.prob_classify(extract_features(review.split()))\n",
    "    pred_sentiment = probdist.max()\n",
    "# 打印输出\n",
    "    print(\"预测情绪:\", pred_sentiment)\n",
    "    print(\"可能性:\", round(probdist.prob(pred_sentiment), 2))"
   ]
  },
  {
   "cell_type": "code",
   "execution_count": null,
   "metadata": {},
   "outputs": [],
   "source": []
  }
 ],
 "metadata": {
  "kernelspec": {
   "display_name": "Python 3",
   "language": "python",
   "name": "python3"
  },
  "language_info": {
   "codemirror_mode": {
    "name": "ipython",
    "version": 3
   },
   "file_extension": ".py",
   "mimetype": "text/x-python",
   "name": "python",
   "nbconvert_exporter": "python",
   "pygments_lexer": "ipython3",
   "version": "3.7.4"
  }
 },
 "nbformat": 4,
 "nbformat_minor": 2
}
