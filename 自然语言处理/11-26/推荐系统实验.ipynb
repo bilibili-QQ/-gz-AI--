{
 "cells": [
  {
   "cell_type": "markdown",
   "metadata": {},
   "source": [
    "##ItemCF算法"
   ]
  },
  {
   "cell_type": "code",
   "execution_count": 1,
   "metadata": {},
   "outputs": [],
   "source": [
    "import math\n",
    "def ItemSimilarity(train):\n",
    "    C = dict()#同时被购买的次数\n",
    "    N = dict()#购买用户数\n",
    "    for u,items in train.items():\n",
    "        for i in items.keys():\n",
    "            if i not in N.keys():\n",
    "                N[i] = 0\n",
    "            N[i] += 1\n",
    "            for j in items.keys():\n",
    "                if i == j:\n",
    "                    continue\n",
    "                if i not in C.keys():\n",
    "                    C[i] = dict()\n",
    "                if j not in C[i].keys():\n",
    "                    C[i][j] = 0\n",
    "                #当用户同时购买了i和j，则加1\n",
    "                C[i][j] += 1\n",
    "    W = dict()#相似分数\n",
    "    for i, related_items in C.items():\n",
    "        if i not in W.keys():\n",
    "            W[i] = dict()\n",
    "        for j,cij in related_items.items():\n",
    "            W[i][j] = cij / math.sqrt(N[i]*N[j])\n",
    "    return W"
   ]
  },
  {
   "cell_type": "code",
   "execution_count": 2,
   "metadata": {},
   "outputs": [],
   "source": [
    "if __name__ == '__main__':\n",
    "    Train_Data = {\n",
    "        'A':{'苹果':1,'香蕉':1,'西瓜':1},\n",
    "        'B':{'苹果':1,'西瓜':1},\n",
    "        'C':{'苹果':1,'香蕉':1,'菠萝':1},\n",
    "        'D':{'香蕉':1,'葡萄':1},\n",
    "        'E':{'葡萄':1,'菠萝':1},\n",
    "        'F':{'香蕉':1,'西瓜':1}\n",
    "    }"
   ]
  },
  {
   "cell_type": "code",
   "execution_count": 3,
   "metadata": {},
   "outputs": [
    {
     "name": "stdout",
     "output_type": "stream",
     "text": [
      "{'苹果': {'香蕉': 0.5773502691896258, '西瓜': 0.6666666666666666, '菠萝': 0.4082482904638631}, '香蕉': {'苹果': 0.5773502691896258, '西瓜': 0.5773502691896258, '菠萝': 0.35355339059327373, '葡萄': 0.35355339059327373}, '西瓜': {'苹果': 0.6666666666666666, '香蕉': 0.5773502691896258}, '菠萝': {'苹果': 0.4082482904638631, '香蕉': 0.35355339059327373, '葡萄': 0.5}, '葡萄': {'香蕉': 0.35355339059327373, '菠萝': 0.5}}\n"
     ]
    }
   ],
   "source": [
    "W = ItemSimilarity(Train_Data)\n",
    "print(W)"
   ]
  },
  {
   "cell_type": "markdown",
   "metadata": {},
   "source": [
    "##ItemCF-余弦算法"
   ]
  },
  {
   "cell_type": "code",
   "execution_count": 4,
   "metadata": {},
   "outputs": [
    {
     "name": "stdout",
     "output_type": "stream",
     "text": [
      "{'苹果': {'香蕉': 0.5773502691896258, '西瓜': 0.6666666666666667, '菠萝': 0.40824829046386296}, '香蕉': {'苹果': 0.5773502691896258, '西瓜': 0.5773502691896258, '菠萝': 0.35355339059327373, '葡萄': 0.35355339059327373}, '西瓜': {'苹果': 0.6666666666666667, '香蕉': 0.5773502691896258}, '菠萝': {'苹果': 0.40824829046386296, '香蕉': 0.35355339059327373, '葡萄': 0.4999999999999999}, '葡萄': {'香蕉': 0.35355339059327373, '菠萝': 0.4999999999999999}}\n"
     ]
    }
   ],
   "source": [
    "import math\n",
    "def ItemSimilarity_cos(train,alpha=0.3):\n",
    "    C = dict()#同时被购买的次数\n",
    "    N = dict()#购买用户数\n",
    "    for u,items in train.items():\n",
    "        for i in items.keys():\n",
    "            if i not in N.keys():\n",
    "                N[i]=0\n",
    "            N[i] += items[i]* items[i]\n",
    "            for j in items.keys():\n",
    "                if i == j:\n",
    "                    continue\n",
    "                if i not in C.keys():\n",
    "                        C[i]=dict()\n",
    "                if j not in C[i].keys():\n",
    "                    C[i][j]=0\n",
    "                C[i][j] += items[i]*items[j]\n",
    "    W = dict()#相似分数\n",
    "    for i, related_items in C.items():\n",
    "        if i not in W.keys():\n",
    "            W[i] = dict()\n",
    "        for j,cij in related_items.items():\n",
    "            W[i][j] = cij / (math.sqrt(N[i])*math.sqrt(N[j]))\n",
    "    return W\n",
    "if __name__ == '__main__':\n",
    "    Train_Data = {\n",
    "        'A':{'苹果':2,'香蕉':2,'西瓜':2},\n",
    "        'B':{'苹果':2,'西瓜':2},\n",
    "        'C':{'苹果':2,'香蕉':2,'菠萝':2},\n",
    "        'D':{'香蕉':2,'葡萄':2},\n",
    "        'E':{'葡萄':2,'菠萝':2},\n",
    "        'F':{'香蕉':2,'西瓜':2}\n",
    "    }\n",
    "W= ItemSimilarity_cos(Train_Data)\n",
    "print(W)"
   ]
  },
  {
   "cell_type": "code",
   "execution_count": 5,
   "metadata": {},
   "outputs": [
    {
     "name": "stdout",
     "output_type": "stream",
     "text": [
      "{'苹果': {'香蕉': 0.5450691787846755, '西瓜': 0.6666666666666666, '菠萝': 0.44273374664777815}, '香蕉': {'苹果': 0.6115431697616012, '西瓜': 0.6115431697616012, '菠萝': 0.40612619817811785, '葡萄': 0.40612619817811785}, '西瓜': {'苹果': 0.6666666666666666, '香蕉': 0.5450691787846755}, '菠萝': {'苹果': 0.3764489784856185, '香蕉': 0.3077861033362291, '葡萄': 0.5}, '葡萄': {'香蕉': 0.3077861033362291, '菠萝': 0.5}}\n"
     ]
    }
   ],
   "source": [
    "#改进算法\n",
    "import math\n",
    "def ItemSimilarity_alpha(train,alpha=0.3):\n",
    "    C = dict()#同时被购买的次数\n",
    "    N = dict()#购买用户数\n",
    "    for u,items in train.items():\n",
    "        for i in items.keys():\n",
    "            if i not in N.keys():\n",
    "                N[i]=0\n",
    "            N[i] += 1\n",
    "            for j in items.keys():\n",
    "                if i == j:\n",
    "                    continue\n",
    "                if i not in C.keys():\n",
    "                    C[i]=dict()\n",
    "                if j not in C[i].keys():\n",
    "                    C[i][j]=0\n",
    "                C[i][j] += 1\n",
    "    W = dict()#相似分数\n",
    "    for i, related_items in C.items():\n",
    "        if i not in W.keys():\n",
    "            W[i] = dict()\n",
    "        for j,cij in related_items.items():\n",
    "            W[i][j] = cij / (math.pow(N[i],alpha)*math.pow(N[j],1-alpha)) \n",
    "    return W\n",
    "if __name__ == '__main__':\n",
    "    Train_Data = {\n",
    "        'A':{'苹果':1,'香蕉':1,'西瓜':1},\n",
    "        'B':{'苹果':1,'西瓜':1},\n",
    "        'C':{'苹果':1,'香蕉':1,'菠萝':1},\n",
    "        'D':{'香蕉':1,'葡萄':1},\n",
    "        'E':{'葡萄':1,'菠萝':1},\n",
    "        'F':{'香蕉':1,'西瓜':1}\n",
    "    }\n",
    "W= ItemSimilarity_alpha(Train_Data)\n",
    "print(W)"
   ]
  },
  {
   "cell_type": "markdown",
   "metadata": {},
   "source": [
    "       "
   ]
  },
  {
   "cell_type": "markdown",
   "metadata": {},
   "source": [
    "   "
   ]
  },
  {
   "cell_type": "code",
   "execution_count": 6,
   "metadata": {},
   "outputs": [
    {
     "name": "stdout",
     "output_type": "stream",
     "text": [
      "{'西瓜': 1.278209836428268, '香蕉': 0, '菠萝': 0, '苹果': 0, '葡萄': 0.5}\n"
     ]
    }
   ],
   "source": [
    "import math\n",
    "def ItemSimilarity_alpha(train,alpha=0.3):\n",
    "    C = dict()#同时被购买的次数\n",
    "    N = dict()#购买用户数\n",
    "    for u,items in train.items():\n",
    "        for i in items.keys():\n",
    "            if i not in N.keys():\n",
    "                N[i]=0\n",
    "            N[i] += 1\n",
    "            for j in items.keys():\n",
    "                if i == j:\n",
    "                    continue\n",
    "                if i not in C.keys():\n",
    "                    C[i]=dict()\n",
    "                if j not in C[i].keys():\n",
    "                    C[i][j]=0\n",
    "                C[i][j] += 1\n",
    "    W = dict()#相似分数\n",
    "    for i, related_items in C.items():\n",
    "        if i not in W.keys():\n",
    "            W[i] = dict()\n",
    "        for j,cij in related_items.items():\n",
    "            W[i][j] = cij / (math.pow(N[i],alpha)*math.pow(N[j],1-alpha)) \n",
    "    return W\n",
    "def Recommend(train,user_id,W,K):\n",
    "    rank = dict()\n",
    "    ru = train[user_id]\n",
    "    for i,pi in ru.items():\n",
    "        tmp=W[i]\n",
    "        for j,wj in sorted(tmp.items(),key=lambda d:\n",
    " d[1],reverse=True)[0:K]:\n",
    "            if j not in rank.keys():\n",
    "                rank[j]=0\n",
    "            if j in ru:\n",
    "                continue\n",
    "            rank[j] += pi*wj\n",
    "    return rank\n",
    "\n",
    "if __name__ == '__main__':\n",
    "    Train_Data = {\n",
    "        'A':{'苹果':1,'香蕉':1,'西瓜':1},\n",
    "        'B':{'苹果':1,'西瓜':1},\n",
    "        'C':{'苹果':1,'香蕉':1,'菠萝':1},\n",
    "        'D':{'香蕉':1,'葡萄':1},\n",
    "        'E':{'葡萄':1,'菠萝':1},\n",
    "        'F':{'香蕉':1,'西瓜':1}\n",
    "    }\n",
    "W=ItemSimilarity_alpha(Train_Data)\n",
    "print(Recommend(Train_Data,'C',W,3) ) "
   ]
  },
  {
   "cell_type": "markdown",
   "metadata": {},
   "source": [
    "   "
   ]
  },
  {
   "cell_type": "markdown",
   "metadata": {},
   "source": [
    "  "
   ]
  },
  {
   "cell_type": "code",
   "execution_count": 7,
   "metadata": {},
   "outputs": [],
   "source": [
    "def defItemIndex(DictUser):\n",
    "    DictItem=defaultdict(defaultdict) \n",
    "    for key in DictUser:\n",
    "        for i in DictUser[key]:\n",
    "            DictItem[i[0]][key]=i[1]\n",
    "    return DictItem\n",
    "\n",
    "def defUserSimilarity(DictItem):\n",
    "    N=dict()\n",
    "    C=defaultdict(defaultdict)\n",
    "    W=defaultdict(defaultdict)\n",
    "    ##遍历每个物品\n",
    "    for key in DictItem:\n",
    "        ##遍历用户k购买过的物品\n",
    "        for i in DictItem[key]:\n",
    "            if i[0] not in N.keys():\n",
    "                N[i[0]]=0\n",
    "            N[i[0]]+=1\n",
    "    ## (i,j)是物品k同时被购买的.户两两匹配对\n",
    "        for j in DictItem[key]:\n",
    "            if i(0)==j(0):\n",
    "                continue\n",
    "            if j[0] not in C[i[0]].keys():\n",
    "                C[i[0]][j[0]]=0\n",
    "#C[i[0]][j[0]]表示.户i和j购买同样物品的数量\n",
    "                C[i[0]][j[0]]+=1\n",
    "    for i,related_user in C.items():\n",
    "        for j,cij in related_user.items():\n",
    "            W[i][j]=cij/math.sqrt(N[i]*N[j])\n",
    "    return W"
   ]
  },
  {
   "cell_type": "code",
   "execution_count": 8,
   "metadata": {},
   "outputs": [
    {
     "name": "stdout",
     "output_type": "stream",
     "text": [
      "defaultdict(<class 'collections.defaultdict'>, {'A': defaultdict(None, {'B': 0.4082482904638631, 'C': 0.3333333333333333, 'D': 0.4082482904638631, 'F': 0.4082482904638631}), 'B': defaultdict(None, {'A': 0.4082482904638631, 'C': 0.4082482904638631, 'F': 0.5}), 'C': defaultdict(None, {'A': 0.3333333333333333, 'B': 0.4082482904638631, 'D': 0.4082482904638631, 'F': 0.4082482904638631, 'E': 0.4082482904638631}), 'D': defaultdict(None, {'A': 0.4082482904638631, 'C': 0.4082482904638631, 'F': 0.5, 'E': 0.5}), 'F': defaultdict(None, {'A': 0.4082482904638631, 'C': 0.4082482904638631, 'D': 0.5, 'B': 0.5}), 'E': defaultdict(None, {'C': 0.4082482904638631, 'D': 0.5})})\n"
     ]
    }
   ],
   "source": [
    "from collections import defaultdict\n",
    "import math\n",
    "def defItemIndex(DictUser):\n",
    "    DictItem=defaultdict(defaultdict)\n",
    "    for key in DictUser:\n",
    "        for i in DictUser[key]:\n",
    "            DictItem[i][key]=[key,DictUser[key][i]]\n",
    "    return DictItem\n",
    "def defUserSimilarity(DictItem):\n",
    "    N=dict() #户购买的数量\n",
    "    C=defaultdict(defaultdict)\n",
    "    W=defaultdict(defaultdict)\n",
    "    ##遍历每个物品\n",
    "    for key in DictItem:\n",
    "        ##遍历.户k购买过的物品\n",
    "        #print(key,\":\")\n",
    "        for x in DictItem[key]:\n",
    "            i = DictItem[key][x]\n",
    "        #i[0]表示⽤户的id ，如果未计算过，则初始化为0\n",
    "            if i[0] not in N.keys():\n",
    "                N[i[0]]=0\n",
    "            N[i[0]]+=1\n",
    "        ## (i,j)是物品k同时被购买的.户两两匹配对\n",
    "            for j in DictItem[key]:\n",
    "                if i[0]==j[0]:\n",
    "                    continue\n",
    "                if j[0] not in C[i[0]].keys():\n",
    "                    C[i[0]][j[0]]=0\n",
    "        #C[i[0]][j[0]]表示⽤户i和j购买同样物品的数量\n",
    "                    C[i[0]][j[0]]+=1\n",
    "    for i,related_user in C.items():\n",
    "        for j,cij in related_user.items():\n",
    "            W[i][j]=cij/math.sqrt(N[i]*N[j])\n",
    "    return W\n",
    "if __name__ == '__main__':\n",
    "    Train_Data = {\n",
    "        'A':{'苹果':1,'香蕉':1,'西瓜':1},\n",
    "        'B':{'苹果':1,'西瓜':1},\n",
    "        'C':{'苹果':1,'香蕉':1,'菠萝':1},\n",
    "        'D':{'香蕉':1,'葡萄':1},\n",
    "        'E':{'葡萄':1,'菠萝':1},\n",
    "        'F':{'香蕉':1,'西瓜':1}\n",
    "    }\n",
    "W=defItemIndex(Train_Data)\n",
    "print(defUserSimilarity(W))"
   ]
  },
  {
   "cell_type": "code",
   "execution_count": null,
   "metadata": {},
   "outputs": [],
   "source": []
  }
 ],
 "metadata": {
  "kernelspec": {
   "display_name": "Python 3",
   "language": "python",
   "name": "python3"
  },
  "language_info": {
   "codemirror_mode": {
    "name": "ipython",
    "version": 3
   },
   "file_extension": ".py",
   "mimetype": "text/x-python",
   "name": "python",
   "nbconvert_exporter": "python",
   "pygments_lexer": "ipython3",
   "version": "3.7.4"
  }
 },
 "nbformat": 4,
 "nbformat_minor": 2
}
