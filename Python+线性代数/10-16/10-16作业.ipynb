{
 "cells": [
  {
   "cell_type": "code",
   "execution_count": 46,
   "metadata": {},
   "outputs": [
    {
     "name": "stdout",
     "output_type": "stream",
     "text": [
      "[[0 0 0 0 1 0 0 0 0 0]]\n"
     ]
    }
   ],
   "source": [
    "#1创建一个长度为10的一维全为0的ndarray对象，然后第五个元素等于1。\n",
    "# import numpy as np\n",
    "# x=np.array([0,0,0,0,1,0,0,0,0,0])\n",
    "# print(x)\n",
    "x=np.zeros([1,10],dtype = int)\n",
    "x[0,4]=1\n",
    "print(x)"
   ]
  },
  {
   "cell_type": "code",
   "execution_count": 37,
   "metadata": {
    "scrolled": false
   },
   "outputs": [
    {
     "name": "stdout",
     "output_type": "stream",
     "text": [
      "[[ 0  3  6]\n",
      " [ 9 12  1]\n",
      " [ 4  7 10]\n",
      " [13  2  5]\n",
      " [ 8 11 14]]\n",
      "\n",
      "\n",
      "[[     93939023177872      93939018617760]\n",
      " [                  0                   0]\n",
      " [7291389589298756130 3688560464807145527]]\n",
      "\n",
      "\n",
      "[[ 6854849388373433548  3684618715133321546]\n",
      " [ 7292235040507356978  3689405915974705367]\n",
      " [ -872704645757933676    -7507743273176922]\n",
      " [ -435318993624010246    -2720542431793101]\n",
      " [-8600258679889300900 -3699634201679675390]]\n"
     ]
    }
   ],
   "source": [
    "#2创建一个5*3随机矩阵和一个3*2随机矩阵，求矩阵积\n",
    "import numpy as np\n",
    "x = np.empty([5,3],dtype = int)\n",
    "print(x)\n",
    "print('\\n')\n",
    "j = np.empty([3,2],dtype = int)\n",
    "print(j)\n",
    "print('\\n')\n",
    "print(np.dot(x,j))"
   ]
  },
  {
   "cell_type": "code",
   "execution_count": 60,
   "metadata": {},
   "outputs": [
    {
     "name": "stdout",
     "output_type": "stream",
     "text": [
      "[ 3 12 23 33 35 54]\n"
     ]
    }
   ],
   "source": [
    "#3冒泡排序法\n",
    "a = np.array([[12,33,35],[3,54,23]])\n",
    "temp=a.flatten('F')\n",
    "temp.sort()\n",
    "print(temp)"
   ]
  },
  {
   "cell_type": "code",
   "execution_count": 66,
   "metadata": {},
   "outputs": [
    {
     "name": "stdout",
     "output_type": "stream",
     "text": [
      "2\n",
      "3\n",
      "5\n"
     ]
    }
   ],
   "source": [
    "#4找到数组【1，2，0，0，4，0】中0元素的位置索引\n",
    "a = np.array([1,2,0,0,4,0])\n",
    "i1=0\n",
    "for i in a:\n",
    "    i1+=1\n",
    "    if i == 0:\n",
    "        print(i1-1)\n"
   ]
  },
  {
   "cell_type": "code",
   "execution_count": 83,
   "metadata": {},
   "outputs": [
    {
     "name": "stdout",
     "output_type": "stream",
     "text": [
      "[[                  0                   0                  -1\n",
      "                    0 2314885616178823169                   0\n",
      "                    9     140314769743058      93939020680060\n",
      "                   -1]\n",
      " [                  0                  -1                   0\n",
      "  2314885530279477249                  72                  11\n",
      "      140314769743058      93939020680560                   3\n",
      "                   28]\n",
      " [                 -1                   0 2314885598998953985\n",
      "                  144                  11     140314769743058\n",
      "       93939020680576                   2                  32\n",
      "                   -1]\n",
      " [                  0 3545230331567144961                 216\n",
      "                   11     140314769743058      93939020680584\n",
      "                    0                  32                  -1\n",
      "                   10]\n",
      " [3472898976313769985                 288                   8\n",
      "      140314769743060      93939020682744                   0\n",
      "                   16                  -1                   0\n",
      "  2314885530279477249]\n",
      " [                360                  11     140314769743046\n",
      "       93939020677832                   0                  41\n",
      "                   21     140314770375280                   1\n",
      "                  432]\n",
      " [                  3     140314769743038      93939020682560\n",
      "                    0                  42                  21\n",
      "                    0                   1                 504\n",
      "                   11]\n",
      " [    140314769743040      93939020682744                   0\n",
      "                    0                   0                   0\n",
      "                    1                   0                   0\n",
      "                    0]\n",
      " [                  0                   0                   0\n",
      "                    0                   0                   0\n",
      "                    0                   0                   0\n",
      "                    0]\n",
      " [                  0                   0                   0\n",
      "      140314769743028                   0                   0\n",
      "                    0                   0                   0\n",
      "      140314769743028]]\n",
      "最大值: 3545230331567144961\n",
      "最小值: -1\n"
     ]
    }
   ],
   "source": [
    "#5创建一个 10x10 的随机数组并找到最大值和最小值\n",
    "a = np.empty([10,10],dtype = int)\n",
    "print(a)\n",
    "b = np.concatenate(a)\n",
    "print(\"最大值:\",b.max())\n",
    "print(\"最小值:\",b.min())"
   ]
  },
  {
   "cell_type": "code",
   "execution_count": 85,
   "metadata": {},
   "outputs": [
    {
     "name": "stdout",
     "output_type": "stream",
     "text": [
      "[[3.  3.2]\n",
      " [3.5 3.6]] \n",
      "\n",
      "[118.4 135.2] \n",
      "\n",
      "[16. 22.]\n"
     ]
    }
   ],
   "source": [
    "#6求解方程\n",
    "# 3x1+3.2x2 = 118.4\n",
    "# 3.5x1+3.6x2 = 135.2\n",
    "a = np.array([[3,3.2],[3.5,3.6]])\n",
    "b = np.array([118.4,135.2])\n",
    "print(a,'\\n')\n",
    "print(b,'\\n')\n",
    "c = linalg.inv(a)\n",
    "e = dot(c,b)\n",
    "print(e)"
   ]
  },
  {
   "cell_type": "code",
   "execution_count": null,
   "metadata": {},
   "outputs": [],
   "source": []
  }
 ],
 "metadata": {
  "kernelspec": {
   "display_name": "Python 3",
   "language": "python",
   "name": "python3"
  },
  "language_info": {
   "codemirror_mode": {
    "name": "ipython",
    "version": 3
   },
   "file_extension": ".py",
   "mimetype": "text/x-python",
   "name": "python",
   "nbconvert_exporter": "python",
   "pygments_lexer": "ipython3",
   "version": "3.7.3"
  }
 },
 "nbformat": 4,
 "nbformat_minor": 2
}
