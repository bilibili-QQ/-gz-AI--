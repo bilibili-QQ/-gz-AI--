{
 "cells": [
  {
   "cell_type": "code",
   "execution_count": 1,
   "metadata": {
    "scrolled": true
   },
   "outputs": [
    {
     "name": "stdout",
     "output_type": "stream",
     "text": [
      "('dfaf', 2, 3)\n"
     ]
    }
   ],
   "source": [
    "list_1 = [\"dfaf\",2,3]\n",
    "tup_1 = tuple(list_1)\n",
    "print(tup_1[:])"
   ]
  },
  {
   "cell_type": "code",
   "execution_count": 1,
   "metadata": {},
   "outputs": [
    {
     "name": "stdout",
     "output_type": "stream",
     "text": [
      "0,1,3,6,10,15,21,28,36,45,55,66,78,91,105,120,136,153,171,190,210,231,253,276,300,325,351,378,406,435,465,496,528,561,595,630,666,703,741,780,820,861,903,946,990,1035,1081,1128,1176,1225,1275,1326,1378,1431,1485,1540,1596,1653,1711,1770,1830,1891,1953,2016,2080,2145,2211,2278,2346,2415,2485,2556,2628,2701,2775,2850,2926,3003,3081,3160,3240,3321,3403,3486,3570,3655,3741,3828,3916,4005,4095,4186,4278,4371,4465,4560,4656,4753,4851,4950,5050,"
     ]
    }
   ],
   "source": [
    "a=0\n",
    "b=0\n",
    "while a<101:\n",
    "    b=a+b\n",
    "    a=a+1\n",
    "    print(b,end=\",\")"
   ]
  },
  {
   "cell_type": "code",
   "execution_count": 4,
   "metadata": {},
   "outputs": [
    {
     "name": "stdout",
     "output_type": "stream",
     "text": [
      "nice\n",
      "nice\n",
      "nice\n",
      "nice\n",
      "nice\n",
      "nice\n",
      "nice\n",
      "nice\n",
      "nice\n"
     ]
    }
   ],
   "source": [
    "i=1\n",
    "while i <10:\n",
    "    print(\"nice\")\n",
    "    i +=1"
   ]
  },
  {
   "cell_type": "code",
   "execution_count": 32,
   "metadata": {},
   "outputs": [
    {
     "name": "stdout",
     "output_type": "stream",
     "text": [
      "1 3 6 10 15 21 28 36 45 55 66 78 91 105 120 136 153 171 190 210 231 253 276 300 325 351 378 406 435 465 496 528 561 595 630 666 703 741 780 820 861 903 946 990 1035 1081 1128 1176 1225 1275 1326 1378 1431 1485 1540 1596 1653 1711 1770 1830 1891 1953 2016 2080 2145 2211 2278 2346 2415 2485 2556 2628 2701 2775 2850 2926 3003 3081 3160 3240 3321 3403 3486 3570 3655 3741 3828 3916 4005 4095 4186 4278 4371 4465 4560 4656 4753 4851 4950 5050 "
     ]
    }
   ],
   "source": [
    "i = 1\n",
    "sum = 0\n",
    "while i <=100:\n",
    "    sum = sum + i\n",
    "    i +=1\n",
    "    print(sum,end=\" \")\n",
    "#*********5**********"
   ]
  },
  {
   "cell_type": "code",
   "execution_count": 31,
   "metadata": {},
   "outputs": [
    {
     "name": "stdout",
     "output_type": "stream",
     "text": [
      "0,2,2,6,6,12,12,20,20,30,30,42,42,56,56,72,72,90,90,110,110,132,132,156,156,182,182,210,210,240,240,272,272,306,306,342,342,380,380,420,420,462,462,506,506,552,552,600,600,650,650,702,702,756,756,812,812,870,870,930,930,992,992,1056,1056,1122,1122,1190,1190,1260,1260,1332,1332,1406,1406,1482,1482,1560,1560,1640,1640,1722,1722,1806,1806,1892,1892,1980,1980,2070,2070,2162,2162,2256,2256,2352,2352,2450,2450,2550,"
     ]
    }
   ],
   "source": [
    "i = 1\n",
    "sum = 0\n",
    "while i <=100:\n",
    "    if i % 2 ==0:\n",
    "        sum = sum + i\n",
    "    i +=1\n",
    "    print(sum,end=\",\")"
   ]
  },
  {
   "cell_type": "code",
   "execution_count": 2,
   "metadata": {
    "scrolled": false
   },
   "outputs": [
    {
     "name": "stdout",
     "output_type": "stream",
     "text": [
      "17\n"
     ]
    }
   ],
   "source": [
    "k='this is my striny'\n",
    "print(len(k))\n",
    "#*****4******"
   ]
  },
  {
   "cell_type": "code",
   "execution_count": 48,
   "metadata": {},
   "outputs": [
    {
     "name": "stdout",
     "output_type": "stream",
     "text": [
      "yeas:2019\n",
      "no! is p\n"
     ]
    }
   ],
   "source": [
    "yeas=int(input(\"yeas:\"))\n",
    "if (yeas%4 ==0):\n",
    "    print(\"yes! is r\")\n",
    "else:\n",
    "    print(\"no! is p\")\n",
    "#*******6**********"
   ]
  },
  {
   "cell_type": "code",
   "execution_count": 1,
   "metadata": {},
   "outputs": [
    {
     "name": "stdout",
     "output_type": "stream",
     "text": [
      "*\n",
      "**\n",
      "***\n",
      "****\n",
      "*****\n",
      "****\n",
      "***\n",
      "**\n",
      "*\n",
      "\n"
     ]
    }
   ],
   "source": [
    "i=0\n",
    "while i<10:\n",
    "    i+=1\n",
    "    if i<5:\n",
    "        print(\"*\"*i)\n",
    "    else:\n",
    "        r=10-i\n",
    "        print(\"*\"*r)\n",
    "#**********7*********"
   ]
  },
  {
   "cell_type": "code",
   "execution_count": 4,
   "metadata": {},
   "outputs": [
    {
     "name": "stdout",
     "output_type": "stream",
     "text": [
      "first:4\n",
      "second:5\n",
      "5 4\n"
     ]
    }
   ],
   "source": [
    "i=input(\"first:\")\n",
    "j=input(\"second:\")\n",
    "if i>j: \n",
    "    print(i,j)\n",
    "else:\n",
    "    print(j,i)\n",
    "#*****8*****"
   ]
  },
  {
   "cell_type": "code",
   "execution_count": 6,
   "metadata": {},
   "outputs": [
    {
     "name": "stdout",
     "output_type": "stream",
     "text": [
      "187\n"
     ]
    }
   ],
   "source": [
    "#*******11*****\n",
    "for i in range(200,17,-1):\n",
    "    if(i%17==0):\n",
    "        print(i)\n",
    "        break"
   ]
  },
  {
   "cell_type": "code",
   "execution_count": 13,
   "metadata": {},
   "outputs": [
    {
     "name": "stdout",
     "output_type": "stream",
     "text": [
      "a 1\n",
      "b 2\n",
      "c 3\n"
     ]
    }
   ],
   "source": [
    "d={'a':1,'b':2,'c':3}\n",
    "for i in d:\n",
    "    print(i,d[i])\n",
    "#*******15***********"
   ]
  },
  {
   "cell_type": "code",
   "execution_count": null,
   "metadata": {},
   "outputs": [],
   "source": []
  },
  {
   "cell_type": "code",
   "execution_count": null,
   "metadata": {},
   "outputs": [],
   "source": []
  }
 ],
 "metadata": {
  "kernelspec": {
   "display_name": "Python 3",
   "language": "python",
   "name": "python3"
  },
  "language_info": {
   "codemirror_mode": {
    "name": "ipython",
    "version": 3
   },
   "file_extension": ".py",
   "mimetype": "text/x-python",
   "name": "python",
   "nbconvert_exporter": "python",
   "pygments_lexer": "ipython3",
   "version": "3.6.9"
  }
 },
 "nbformat": 4,
 "nbformat_minor": 2
}
