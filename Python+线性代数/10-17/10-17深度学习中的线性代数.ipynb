{
 "cells": [
  {
   "cell_type": "code",
   "execution_count": 5,
   "metadata": {
    "scrolled": true
   },
   "outputs": [
    {
     "data": {
      "text/plain": [
       "array([[1., 0., 0., 0.],\n",
       "       [0., 1., 0., 0.],\n",
       "       [0., 0., 1., 0.],\n",
       "       [0., 0., 0., 1.]])"
      ]
     },
     "execution_count": 5,
     "metadata": {},
     "output_type": "execute_result"
    }
   ],
   "source": [
    "from numpy import*\n",
    "eye(4)"
   ]
  },
  {
   "cell_type": "code",
   "execution_count": 3,
   "metadata": {},
   "outputs": [
    {
     "name": "stdout",
     "output_type": "stream",
     "text": [
      "5.0\n",
      "5.0\n",
      "7.0\n",
      "4.0\n"
     ]
    }
   ],
   "source": [
    "import numpy as np \n",
    "x = np.array([3, 4])\n",
    "print(np.linalg.norm(x))\n",
    "print(np.linalg.norm(x, ord=2))\n",
    "print(np.linalg.norm(x, ord=1))\n",
    "print(np.linalg.norm(x, ord=np.inf))"
   ]
  },
  {
   "cell_type": "code",
   "execution_count": 5,
   "metadata": {},
   "outputs": [
    {
     "name": "stdout",
     "output_type": "stream",
     "text": [
      "[[ 1 -2  1]\n",
      " [ 0  2 -8]\n",
      " [-4  5  9]] \n",
      "\n",
      "[ 0  8 -9] \n",
      "\n",
      "[29. 16.  3.]\n",
      "[[ 0.  8. -9.]]\n"
     ]
    }
   ],
   "source": [
    "import numpy as np\n",
    "#创建矩阵和数组\n",
    "B = np.mat(\"1 -2 1;0 2 -8;-4 5 9\")\n",
    "b = np.array([0,8,-9])\n",
    "print(B,'\\n')\n",
    "print(b,'\\n')\n",
    "# 调用solve函数求解线性方程\n",
    "x = np.linalg.solve(B,b)\n",
    "print (x)  #[ 29. 16. 3.]\n",
    "# 使用dot函数检查求得的解是否正确\n",
    "print (np.dot(B , x))"
   ]
  },
  {
   "cell_type": "code",
   "execution_count": 2,
   "metadata": {},
   "outputs": [
    {
     "name": "stdout",
     "output_type": "stream",
     "text": [
      "[[ 1 -2  1]\n",
      " [ 0  2 -8]\n",
      " [-4  5  9]] \n",
      "\n",
      "[ 0  8 -9] \n",
      "\n",
      "[29. 16.  3.]\n"
     ]
    }
   ],
   "source": [
    "#解线性方程\n",
    "# x1-2*x2+x3 = 0\n",
    "# 2*x2-8*x3 = 8\n",
    "# -4*x1 + 5*x2 + 9*x3 = -9\n",
    "import numpy as np\n",
    "A = np.array([[1,-2,1],[0,2,-8],[-4,5,9]])\n",
    "print(A,'\\n')\n",
    "B = np.array([0,8,-9])\n",
    "print(B,'\\n')\n",
    "Y= np.linalg.solve(A,B)\n",
    "print(Y)"
   ]
  },
  {
   "cell_type": "code",
   "execution_count": 3,
   "metadata": {},
   "outputs": [
    {
     "name": "stdout",
     "output_type": "stream",
     "text": [
      "[[11 14]\n",
      " [15 19]]\n"
     ]
    }
   ],
   "source": [
    "A = [[2, 3],[3, 4]]\n",
    "B = [[1, 1],[3, 4]]\n",
    "C = np.dot(A, B)\n",
    "print(C)"
   ]
  },
  {
   "cell_type": "code",
   "execution_count": 8,
   "metadata": {},
   "outputs": [
    {
     "name": "stdout",
     "output_type": "stream",
     "text": [
      "[[1 2]\n",
      " [4 5]] \n",
      "\n",
      "-2.9999999999999996\n"
     ]
    }
   ],
   "source": [
    "import numpy as np\n",
    "A = np.array([[1,2],[4,5]])\n",
    "print(A,'\\n')\n",
    "D = np.linalg.det(A)\n",
    "print(D)"
   ]
  },
  {
   "cell_type": "code",
   "execution_count": 9,
   "metadata": {},
   "outputs": [
    {
     "name": "stdout",
     "output_type": "stream",
     "text": [
      "[[2 3]\n",
      " [4 5]] \n",
      "\n",
      "[[-2.5  1.5]\n",
      " [ 2.  -1. ]] \n",
      "\n",
      "[[1. 0.]\n",
      " [0. 1.]]\n"
     ]
    }
   ],
   "source": [
    "# A为方阵，存在矩阵B使得AB=BA=I，I为单位矩阵，则称B为的逆矩阵；\n",
    "# 对于Ax=b有\n",
    "A = np.array([[2,3],[4,5]])\n",
    "print(A,'\\n')\n",
    "A_inv= np.linalg.inv(A)\n",
    "print(A_inv,'\\n')\n",
    "I = A_inv.dot(A)\n",
    "print(I)"
   ]
  },
  {
   "cell_type": "code",
   "execution_count": 4,
   "metadata": {},
   "outputs": [
    {
     "ename": "SyntaxError",
     "evalue": "invalid syntax (<ipython-input-4-6f6c010381fc>, line 6)",
     "output_type": "error",
     "traceback": [
      "\u001b[0;36m  File \u001b[0;32m\"<ipython-input-4-6f6c010381fc>\"\u001b[0;36m, line \u001b[0;32m6\u001b[0m\n\u001b[0;31m    c=b.shape 3*2\u001b[0m\n\u001b[0m              ^\u001b[0m\n\u001b[0;31mSyntaxError\u001b[0m\u001b[0;31m:\u001b[0m invalid syntax\n"
     ]
    }
   ],
   "source": [
    "import numpy as np\n",
    "a = np.array([1,2,3,4])\n",
    "print(a,'\\n')\n",
    "b = np.array([[1,2],[3,4],[5,6]])\n",
    "print(b,'\\n')\n",
    "c=b.shape([3,2])\n",
    "print(c)"
   ]
  },
  {
   "cell_type": "code",
   "execution_count": 5,
   "metadata": {},
   "outputs": [
    {
     "name": "stdout",
     "output_type": "stream",
     "text": [
      "[[1 2]\n",
      " [3 4]\n",
      " [5 6]] \n",
      "\n",
      "[[1 3 5]\n",
      " [2 4 6]]\n"
     ]
    }
   ],
   "source": [
    "#转置\n",
    "a = np.array([[1,2],[3,4],[5,6]])\n",
    "print(a,'\\n')\n",
    "print(a.T)"
   ]
  },
  {
   "cell_type": "code",
   "execution_count": 8,
   "metadata": {},
   "outputs": [
    {
     "name": "stdout",
     "output_type": "stream",
     "text": [
      "[[1 2]\n",
      " [3 4]\n",
      " [5 6]] \n",
      "\n",
      "[[3 2]\n",
      " [6 4]\n",
      " [5 8]] \n",
      "\n",
      "[[ 4  4]\n",
      " [ 9  8]\n",
      " [10 14]]\n"
     ]
    }
   ],
   "source": [
    "#加法\n",
    "A = np.array([[1,2],[3,4],[5,6]])\n",
    "print(A,'\\n')\n",
    "B = np.array([[3,2],[6,4],[5,8]])\n",
    "print(B,'\\n')\n",
    "C = A+B\n",
    "print(C)"
   ]
  },
  {
   "cell_type": "code",
   "execution_count": 13,
   "metadata": {},
   "outputs": [
    {
     "name": "stdout",
     "output_type": "stream",
     "text": [
      "[[1 2]\n",
      " [3 4]\n",
      " [5 6]] \n",
      "\n",
      "[[3 2]\n",
      " [6 4]\n",
      " [5 8]] \n",
      "\n",
      "[[3 6 5]\n",
      " [2 4 8]] \n",
      "\n",
      "[[ 7 14 21]\n",
      " [17 34 47]\n",
      " [27 54 73]]\n"
     ]
    }
   ],
   "source": [
    "#矩阵相乘\n",
    "A = np.array([[1,2],[3,4],[5,6]])\n",
    "print(A,'\\n')\n",
    "B = np.array([[3,2],[6,4],[5,8]])\n",
    "print(B,'\\n')\n",
    "C = B.T #转置\n",
    "print(C,'\\n')\n",
    "print(np.dot(A,C))"
   ]
  },
  {
   "cell_type": "code",
   "execution_count": 16,
   "metadata": {},
   "outputs": [
    {
     "name": "stdout",
     "output_type": "stream",
     "text": [
      "[[ 3  0  2]\n",
      " [ 2  0 -2]\n",
      " [ 0  1  1]] \n",
      "\n",
      "[[ 0.2  0.2  0. ]\n",
      " [-0.2  0.3  1. ]\n",
      " [ 0.2 -0.3 -0. ]] \n",
      "\n",
      "[[ 1.00000000e+00  0.00000000e+00 -1.11022302e-16]\n",
      " [ 0.00000000e+00  1.00000000e+00  0.00000000e+00]\n",
      " [ 0.00000000e+00  0.00000000e+00  1.00000000e+00]]\n"
     ]
    }
   ],
   "source": [
    "#逆矩阵\n",
    "A = np.array([[3,0,2],[2,0,-2],[0,1,1]])\n",
    "print(A,'\\n')\n",
    "B = np.linalg.inv(A)\n",
    "print(B,'\\n')\n",
    "C = B.dot(A)\n",
    "print(C)"
   ]
  },
  {
   "cell_type": "code",
   "execution_count": 18,
   "metadata": {},
   "outputs": [
    {
     "name": "stdout",
     "output_type": "stream",
     "text": [
      "[[ 2 -1]\n",
      " [ 1  1]] \n",
      "\n",
      "[[ 0.33333333  0.33333333]\n",
      " [-0.33333333  0.66666667]] \n",
      "\n",
      "[[0]\n",
      " [3]] \n",
      "\n",
      "[[1.]\n",
      " [2.]]\n"
     ]
    }
   ],
   "source": [
    "#{y=2x\n",
    "#{y=-x+3\n",
    "A = np.array([[2,-1],[1,1]])\n",
    "print(A,'\\n')\n",
    "B = np.linalg.inv(A)\n",
    "print(B,'\\n')\n",
    "C = np.array([[0],[3]])\n",
    "print(C,'\\n')\n",
    "D = B.dot(C)\n",
    "print(D)"
   ]
  },
  {
   "cell_type": "code",
   "execution_count": 26,
   "metadata": {},
   "outputs": [
    {
     "data": {
      "image/png": "[encoded data removed]",
      "text/plain": [
       "<Figure size 432x288 with 1 Axes>"
      ]
     },
     "metadata": {
      "needs_background": "light"
     },
     "output_type": "display_data"
    }
   ],
   "source": [
    "#线性方程\n",
    "from matplotlib import pyplot as plt\n",
    "x = np.arange(-10,10)\n",
    "y = 2*x\n",
    "y1 = -x + 3\n",
    "plt.figure()\n",
    "plt.plot(x,y)\n",
    "plt.plot(x,y1)\n",
    "plt.xlim(0,3)\n",
    "plt.ylim(0,3)\n",
    "plt.axvline(x=0,color='grey')\n",
    "plt.axhline(y=0,color='grey')\n",
    "plt.show()\n",
    "plt.close()"
   ]
  },
  {
   "cell_type": "code",
   "execution_count": 32,
   "metadata": {},
   "outputs": [
    {
     "name": "stdout",
     "output_type": "stream",
     "text": [
      "[[ 1  1]\n",
      " [ 1 -3]] \n",
      "\n",
      "[[6 0]\n",
      " [0 2]] \n",
      "\n",
      "[[ 0.75  0.25]\n",
      " [ 0.25 -0.25]] \n",
      "\n",
      "[[5. 1.]\n",
      " [3. 3.]]\n"
     ]
    }
   ],
   "source": [
    "V =np.array([[1,1],[1,-3]])\n",
    "print(V,'\\n')\n",
    "lambdas =np.diag([6,2])\n",
    "print(lambdas,'\\n')\n",
    "v1 = np.linalg.inv(V)\n",
    "print(v1,'\\n')\n",
    "print(V.dot(lambdas).dot(v1))"
   ]
  },
  {
   "cell_type": "code",
   "execution_count": 35,
   "metadata": {},
   "outputs": [
    {
     "name": "stdout",
     "output_type": "stream",
     "text": [
      "[[5 1]\n",
      " [3 3]] \n",
      "\n",
      "(array([6., 2.]), array([[ 0.70710678, -0.31622777],\n",
      "       [ 0.70710678,  0.9486833 ]]))\n"
     ]
    }
   ],
   "source": [
    "A = np.array([[5,1],[3,3]])\n",
    "print(A,'\\n')\n",
    "print(np.linalg.eig(A))"
   ]
  },
  {
   "cell_type": "code",
   "execution_count": 9,
   "metadata": {},
   "outputs": [
    {
     "data": {
      "image/png": "[encoded data removed]",
      "text/plain": [
       "<Figure size 432x288 with 1 Axes>"
      ]
     },
     "metadata": {
      "needs_background": "light"
     },
     "output_type": "display_data"
    }
   ],
   "source": [
    "from matplotlib import pyplot as plt\n",
    "import numpy as np\n",
    "t = np.linspace(0, 2*np.pi,100)\n",
    "x = np.cos(t)\n",
    "y = np.sin(t)\n",
    "plt.figure()\n",
    "plt.plot(x,y)\n",
    "plt.xlim(-1.5,1.5)\n",
    "plt.ylim(-1.5,1.5)\n",
    "plt.show()"
   ]
  },
  {
   "cell_type": "code",
   "execution_count": 23,
   "metadata": {},
   "outputs": [
    {
     "name": "stdout",
     "output_type": "stream",
     "text": [
      "1\n",
      "1\n"
     ]
    },
    {
     "data": {
      "text/plain": [
       "[1, 1]"
      ]
     },
     "execution_count": 23,
     "metadata": {},
     "output_type": "execute_result"
    }
   ],
   "source": [
    "tmp_a=int(input(\"\"))\n",
    "tmp_b=int(input(\"\"))\n",
    "A=[tmp_a,tmp_b]\n",
    "A"
   ]
  },
  {
   "cell_type": "code",
   "execution_count": 1,
   "metadata": {},
   "outputs": [
    {
     "name": "stdout",
     "output_type": "stream",
     "text": [
      "lambda:2\n",
      "[[ 0.47622439  5.25247996 -1.21718512 ... -2.34076161  0.8667498\n",
      "   2.7937313 ]\n",
      " [-1.13598442  0.13106735  2.94188904 ...  0.39594808  3.36664068\n",
      "   2.94534293]\n",
      " [ 0.08843844  0.09468378  0.30651322 ...  1.48300798  4.17080456\n",
      "  -0.97185989]\n",
      " ...\n",
      " [ 1.07648167 -2.95190846  0.48619464 ...  2.2230245  -4.79992807\n",
      "   1.53174076]\n",
      " [ 0.49884287  1.93585453 -1.5072332  ... -2.42192985  0.8375881\n",
      "  -0.58308079]\n",
      " [ 0.80513396 -2.05183902  1.18754224 ... -0.23789931 -1.49569448\n",
      "   2.22648421]] \n",
      "\n",
      "[[506.1509383   15.38622771 -34.28564211 ... -37.62231601  32.68744306\n",
      "   39.89053152]\n",
      " [ 15.38622771 544.63043899  20.35832078 ... -15.72065131 -15.03113387\n",
      "   14.08204096]\n",
      " [-34.28564211  20.35832078 564.88847945 ...  -1.37659669   3.61247464\n",
      "  -18.13880474]\n",
      " ...\n",
      " [-37.62231601 -15.72065131  -1.37659669 ... 542.93494462  17.34049394\n",
      "   -2.5916834 ]\n",
      " [ 32.68744306 -15.03113387   3.61247464 ...  17.34049394 473.10463381\n",
      "    4.51930807]\n",
      " [ 39.89053152  14.08204096 -18.13880474 ...  -2.5916834    4.51930807\n",
      "  530.31702159]] \n",
      "\n",
      "[[ 1.86612820e+02 -9.45842391e+00  2.19119942e-01 ... -4.24374047e+00\n",
      "  -1.56058722e+01  1.52443453e+01]\n",
      " [-9.45842391e+00  2.01135862e+02 -3.00261559e+01 ...  1.27105160e+01\n",
      "   2.55191202e+01  2.54663352e+01]\n",
      " [ 2.19119942e-01 -3.00261559e+01  1.63202064e+02 ...  6.98083476e+00\n",
      "  -1.01492731e+01  3.47879349e+00]\n",
      " ...\n",
      " [-4.24374047e+00  1.27105160e+01  6.98083476e+00 ...  1.73609956e+02\n",
      "   2.24921009e+01 -4.89181239e+00]\n",
      " [-1.56058722e+01  2.55191202e+01 -1.01492731e+01 ...  2.24921009e+01\n",
      "   2.00399069e+02 -5.47413669e+00]\n",
      " [ 1.52443453e+01  2.54663352e+01  3.47879349e+00 ... -4.89181239e+00\n",
      "  -5.47413669e+00  2.26792251e+02]] \n",
      "\n",
      "[[ 14.12043385 -39.7661739  -12.50963448 ... -10.33336202  14.85306493\n",
      "   -5.76787028]\n",
      " [ 40.74582513  22.93001734 -19.77047884 ...  -9.10978876 -24.97439286\n",
      "    6.50267232]\n",
      " [  4.5300394  -14.55513616  11.63583092 ...  -3.83716546 -42.46115412\n",
      "  -17.10926347]\n",
      " ...\n",
      " [-26.18702487   8.28728213  24.90805597 ...  33.13336252   6.110324\n",
      "  -47.95625891]\n",
      " [ 24.53162737   5.29626595 -11.9922799  ...  21.44407821  32.47041829\n",
      "  -33.69452252]\n",
      " [  6.10430626  -4.2154359    7.52630552 ...  15.19615959  -2.94860701\n",
      "   17.18277026]] \n",
      "\n",
      "[[ 14.12043385 -39.7661739  -12.50963448 ... -10.33336202  14.85306493\n",
      "   -5.76787028]\n",
      " [ 40.74582513  22.93001734 -19.77047884 ...  -9.10978876 -24.97439286\n",
      "    6.50267232]\n",
      " [  4.5300394  -14.55513616  11.63583092 ...  -3.83716546 -42.46115412\n",
      "  -17.10926347]\n",
      " ...\n",
      " [-26.18702487   8.28728213  24.90805597 ...  33.13336252   6.110324\n",
      "  -47.95625891]\n",
      " [ 24.53162737   5.29626595 -11.9922799  ...  21.44407821  32.47041829\n",
      "  -33.69452252]\n",
      " [  6.10430626  -4.2154359    7.52630552 ...  15.19615959  -2.94860701\n",
      "   17.18277026]] \n",
      "\n"
     ]
    }
   ],
   "source": [
    "from matplotlib import pyplot as plt\n",
    "import numpy as np\n",
    "A = np.random.randn(200,500)\n",
    "B = np.random.randn(500,500)\n",
    "def fun(I):\n",
    "    return np.dot(A,np.dot(B,1*np.eye(500)))\n",
    "res1 = A + A\n",
    "res2 = np.dot(A,A.T)\n",
    "res3 = np.dot(A.T,A)\n",
    "res4 = np.dot(A,B)\n",
    "l = int(input(\"lambda:\"))\n",
    "res5 = fun(l)\n",
    "print(res1,'\\n')\n",
    "print(res2,'\\n')\n",
    "print(res3,'\\n')\n",
    "print(res4,'\\n')\n",
    "print(res5,'\\n')"
   ]
  },
  {
   "cell_type": "code",
   "execution_count": 2,
   "metadata": {},
   "outputs": [
    {
     "name": "stdout",
     "output_type": "stream",
     "text": [
      "请输入k值：-3\n",
      "请输入b值：4\n"
     ]
    },
    {
     "data": {
      "image/png": "[encoded data removed]",
      "text/plain": [
       "<Figure size 432x288 with 1 Axes>"
      ]
     },
     "metadata": {
      "needs_background": "light"
     },
     "output_type": "display_data"
    }
   ],
   "source": [
    "from matplotlib import pyplot as plt\n",
    "import numpy as np\n",
    "x = np.arange(-10,10)\n",
    "k = int(input(\"请输入k值：\"))\n",
    "b = int(input(\"请输入b值：\"))\n",
    "y = k*x + b\n",
    "y1 = k*x + b\n",
    "plt.figure()\n",
    "plt.plot(x,y)\n",
    "plt.plot(x,y1)\n",
    "# plt.xlim(0,6)\n",
    "# plt.ylim(0,6)\n",
    "plt.axvline(x=0,color='grey')\n",
    "plt.axhline(y=0,color='grey')\n",
    "plt.show()\n",
    "plt.close()"
   ]
  },
  {
   "cell_type": "code",
   "execution_count": null,
   "metadata": {},
   "outputs": [],
   "source": []
  }
 ],
 "metadata": {
  "kernelspec": {
   "display_name": "Python 3",
   "language": "python",
   "name": "python3"
  },
  "language_info": {
   "codemirror_mode": {
    "name": "ipython",
    "version": 3
   },
   "file_extension": ".py",
   "mimetype": "text/x-python",
   "name": "python",
   "nbconvert_exporter": "python",
   "pygments_lexer": "ipython3",
   "version": "3.6.9"
  }
 },
 "nbformat": 4,
 "nbformat_minor": 2
}
